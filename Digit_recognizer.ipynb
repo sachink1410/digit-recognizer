{
  "nbformat": 4,
  "nbformat_minor": 0,
  "metadata": {
    "colab": {
      "name": "Digit recognizer.ipynb",
      "provenance": [],
      "authorship_tag": "ABX9TyN3RHWg1DIpZECoEDW1knv+",
      "include_colab_link": true
    },
    "kernelspec": {
      "name": "python3",
      "display_name": "Python 3"
    },
    "language_info": {
      "name": "python"
    }
  },
  "cells": [
    {
      "cell_type": "markdown",
      "metadata": {
        "id": "view-in-github",
        "colab_type": "text"
      },
      "source": [
        "<a href=\"https://colab.research.google.com/github/sachink1410/digit-recognizer/blob/main/Digit_recognizer.ipynb\" target=\"_parent\"><img src=\"https://colab.research.google.com/assets/colab-badge.svg\" alt=\"Open In Colab\"/></a>"
      ]
    },
    {
      "cell_type": "code",
      "metadata": {
        "id": "ZIIU1EjZ2cXR"
      },
      "source": [
        "import cv2 as cv"
      ],
      "execution_count": null,
      "outputs": []
    },
    {
      "cell_type": "code",
      "metadata": {
        "id": "vsKbodHa2fyQ"
      },
      "source": [
        "import numpy as np\n",
        "import matplotlib.pyplot as plt\n",
        "import tensorflow as tf\n"
      ],
      "execution_count": null,
      "outputs": []
    },
    {
      "cell_type": "code",
      "metadata": {
        "id": "vW7F4zyW2uuY"
      },
      "source": [
        "mnist = tf.keras.datasets.mnist"
      ],
      "execution_count": null,
      "outputs": []
    },
    {
      "cell_type": "code",
      "metadata": {
        "colab": {
          "base_uri": "https://localhost:8080/"
        },
        "id": "2DWN-dfG28Dp",
        "outputId": "8c7c0b28-2d99-48ff-ecc8-2260dbc7953d"
      },
      "source": [
        "(X_train,y_train),(X_test,y_test) =mnist.load_data()"
      ],
      "execution_count": null,
      "outputs": [
        {
          "output_type": "stream",
          "text": [
            "Downloading data from https://storage.googleapis.com/tensorflow/tf-keras-datasets/mnist.npz\n",
            "11493376/11490434 [==============================] - 0s 0us/step\n"
          ],
          "name": "stdout"
        }
      ]
    },
    {
      "cell_type": "code",
      "metadata": {
        "id": "-cKCJ4yg33V9"
      },
      "source": [
        "X_train = tf.keras.utils.normalize(X_train, axis=1)\n",
        "X_test = tf.keras.utils.normalize(X_test, axis=1)\n"
      ],
      "execution_count": null,
      "outputs": []
    },
    {
      "cell_type": "code",
      "metadata": {
        "id": "2lJvfRzC33YZ"
      },
      "source": [
        "model=tf.keras.models.Sequential()"
      ],
      "execution_count": null,
      "outputs": []
    },
    {
      "cell_type": "code",
      "metadata": {
        "id": "zfbVzSad4YlO"
      },
      "source": [
        "model.add(tf.keras.layers.Flatten(input_shape=(28,28)))\n",
        "model.add(tf.keras.layers.Dense(units=128, activation=tf.nn.relu))\n",
        "model.add(tf.keras.layers.Dense(units=128, activation=tf.nn.relu))\n",
        "model.add(tf.keras.layers.Dense(units=10, activation=tf.nn.softmax))\n"
      ],
      "execution_count": null,
      "outputs": []
    },
    {
      "cell_type": "code",
      "metadata": {
        "id": "KSsloxYQ5ent"
      },
      "source": [
        "model.compile(optimizer='adam', loss='sparse_categorical_crossentropy',metrics=['accuracy'])"
      ],
      "execution_count": null,
      "outputs": []
    },
    {
      "cell_type": "code",
      "metadata": {
        "colab": {
          "base_uri": "https://localhost:8080/"
        },
        "id": "LFEBmn-U53xx",
        "outputId": "904a9d02-3f33-41f0-94de-d5dc4b97df00"
      },
      "source": [
        "model.fit(X_train,y_train, epochs=3)"
      ],
      "execution_count": null,
      "outputs": [
        {
          "output_type": "stream",
          "text": [
            "Epoch 1/3\n",
            "1875/1875 [==============================] - 5s 2ms/step - loss: 0.2685 - accuracy: 0.9214\n",
            "Epoch 2/3\n",
            "1875/1875 [==============================] - 4s 2ms/step - loss: 0.1105 - accuracy: 0.9655\n",
            "Epoch 3/3\n",
            "1875/1875 [==============================] - 5s 2ms/step - loss: 0.0773 - accuracy: 0.9757\n"
          ],
          "name": "stdout"
        },
        {
          "output_type": "execute_result",
          "data": {
            "text/plain": [
              "<tensorflow.python.keras.callbacks.History at 0x7f4261c489d0>"
            ]
          },
          "metadata": {
            "tags": []
          },
          "execution_count": 9
        }
      ]
    },
    {
      "cell_type": "code",
      "metadata": {
        "colab": {
          "base_uri": "https://localhost:8080/"
        },
        "id": "k_LZzKDW6Dn8",
        "outputId": "41e35962-d512-4b6a-cdec-f368595f9f86"
      },
      "source": [
        "loss,accuracy=model.evaluate(X_test,y_test)"
      ],
      "execution_count": null,
      "outputs": [
        {
          "output_type": "stream",
          "text": [
            "313/313 [==============================] - 0s 1ms/step - loss: 0.0938 - accuracy: 0.9725\n"
          ],
          "name": "stdout"
        }
      ]
    },
    {
      "cell_type": "code",
      "metadata": {
        "colab": {
          "base_uri": "https://localhost:8080/"
        },
        "id": "QC1PmzyJ6Wqd",
        "outputId": "a7fc31c0-8c1c-4e18-90df-38f6fbc5b438"
      },
      "source": [
        "print(accuracy)\n",
        "print(loss)"
      ],
      "execution_count": null,
      "outputs": [
        {
          "output_type": "stream",
          "text": [
            "0.9725000262260437\n",
            "0.0938025414943695\n"
          ],
          "name": "stdout"
        }
      ]
    },
    {
      "cell_type": "code",
      "metadata": {
        "colab": {
          "base_uri": "https://localhost:8080/"
        },
        "id": "ejx2AZOE6coC",
        "outputId": "84d8a7e4-3f43-469a-9232-08db39212e6d"
      },
      "source": [
        "model.save('digits.model')"
      ],
      "execution_count": null,
      "outputs": [
        {
          "output_type": "stream",
          "text": [
            "INFO:tensorflow:Assets written to: digits.model/assets\n"
          ],
          "name": "stdout"
        }
      ]
    },
    {
      "cell_type": "code",
      "metadata": {
        "id": "qtsm5HhJ6tC5"
      },
      "source": [
        "for i in range(1,7):\n",
        "  img=cv.imread(f'{i}.png')[:,:,0]\n",
        "  img=np.invert(np.array([img]))\n",
        "  prediction=model.predict(img)\n",
        "  print(f'the result is probabbly: {np.argmax(prediction)}')\n",
        "  plt.imshow(img[0], cmap=plt.cm.binary)\n",
        "  plt.show()"
      ],
      "execution_count": null,
      "outputs": []
    }
  ]
}